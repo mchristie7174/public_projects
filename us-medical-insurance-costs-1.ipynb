{
 "cells": [
  {
   "cell_type": "markdown",
   "metadata": {},
   "source": [
    "# U.S. Medical Insurance Costs"
   ]
  },
  {
   "cell_type": "code",
   "execution_count": 47,
   "metadata": {},
   "outputs": [],
   "source": [
    "import csv"
   ]
  },
  {
   "cell_type": "code",
   "execution_count": null,
   "metadata": {},
   "outputs": [],
   "source": []
  },
  {
   "cell_type": "code",
   "execution_count": 48,
   "metadata": {},
   "outputs": [],
   "source": [
    "#imports the csv file and places each row as a disctionary (a list of dictionaries)\n",
    "with open('insurance.csv') as csv_file:\n",
    "    csv_reader = csv.DictReader(csv_file)\n",
    "    data = []\n",
    "    for row in csv_reader:\n",
    "        data.append(dict(row))"
   ]
  },
  {
   "cell_type": "code",
   "execution_count": 49,
   "metadata": {},
   "outputs": [],
   "source": [
    "#The following blocks of code gather lists of each value together in each column\n",
    "\n",
    "#get all the values for ages\n",
    "age_values_list = []\n",
    "for dictionary in data:\n",
    "    age_values_list.append(dictionary.get(\"age\"))\n",
    "\n",
    "#get all the values for sex\n",
    "sex_values_list = []\n",
    "for dictionary in data:\n",
    "    sex_values_list.append(dictionary.get(\"sex\"))\n",
    "\n",
    "#get all the values for bmi\n",
    "bmi_values_list = []\n",
    "for dictionary in data:\n",
    "    bmi_values_list.append(dictionary.get(\"bmi\"))\n",
    "\n",
    "#get all the values for number of children\n",
    "children_values_list = []\n",
    "for dictionary in data:\n",
    "    children_values_list.append(dictionary.get(\"children\"))\n",
    "\n",
    "#get all the values for smoker(yes/no)\n",
    "smoker_values_list = []\n",
    "for dictionary in data:\n",
    "    smoker_values_list.append(dictionary.get(\"smoker\"))\n",
    "\n",
    "#get all the values for region\n",
    "region_values_list = []\n",
    "for dictionary in data:\n",
    "    region_values_list.append(dictionary.get(\"region\"))\n",
    "\n",
    "#get all the values for charges\n",
    "charges_values_list = []\n",
    "for dictionary in data:\n",
    "    charges_values_list.append(dictionary.get(\"charges\"))\n"
   ]
  },
  {
   "cell_type": "code",
   "execution_count": 52,
   "metadata": {},
   "outputs": [
    {
     "name": "stdout",
     "output_type": "stream",
     "text": [
      "The are 27.88% of patients that are obese males.\n",
      "The are 24.96% of patients that are obese females.\n",
      "The average cost for obese individuals is $15552.34.\n",
      "The average cost for overweight individuals is $10987.51.\n",
      "The average cost for average size individuals is $10282.22.\n"
     ]
    }
   ],
   "source": [
    "#combine 2 different lists to compare the 2 values (BMI + 1 other)\n",
    "\n",
    "#bring together male/female and BMI\n",
    "def bmi_sex_calculation():\n",
    "    big_male = 0\n",
    "    big_female = 0\n",
    "    for bmi, sex in zip(bmi_values_list, sex_values_list):\n",
    "        if float(bmi) >= 30 and sex == \"male\":\n",
    "            big_male += 1 \n",
    "    for bmi, sex in zip(bmi_values_list, sex_values_list):\n",
    "        if float(bmi) >= 30 and sex == \"female\":\n",
    "            big_female += 1 \n",
    "    bmi_male_percentage = round(big_male/len(bmi_values_list)*100,2)\n",
    "    bmi_female_percentage = round(big_female/len(bmi_values_list)*100,2)\n",
    "    print(f\"The are {float(bmi_male_percentage)}% of patients that are obese males.\")\n",
    "    print(f\"The are {float(bmi_female_percentage)}% of patients that are obese females.\")\n",
    "\n",
    "bmi_sex_calculation()\n",
    "\n",
    "#bring together BMI and costs\n",
    "def bmi_cost_calculation():\n",
    "    big_cost = 0\n",
    "    big_cost_number = []\n",
    "    middle_cost = 0\n",
    "    middle_cost_number = []\n",
    "    small_cost = 0\n",
    "    small_cost_number = []\n",
    "    smallest_cost = 0\n",
    "    smallest_cost_number = []\n",
    "    for bmi, charges in zip(bmi_values_list, charges_values_list):\n",
    "        if float(bmi) >= 30:\n",
    "            big_cost += float(charges) \n",
    "            big_cost_number.append(charges)\n",
    "    for bmi, charges in zip(bmi_values_list, charges_values_list):\n",
    "        if float(bmi) < 30 and float(bmi) >= 25:\n",
    "            middle_cost += float(charges) \n",
    "            middle_cost_number.append(charges)\n",
    "    for bmi, charges in zip(bmi_values_list, charges_values_list):\n",
    "        if float(bmi) < 25:\n",
    "            small_cost += float(charges) \n",
    "            small_cost_number.append(charges)\n",
    "    bmi_big_cost_avg = round(big_cost/len(big_cost_number),2)\n",
    "    bmi_middle_cost_avg = round(middle_cost/len(middle_cost_number),2)\n",
    "    bmi_small_cost_avg = round(small_cost/len(small_cost_number),2)\n",
    "\n",
    "    print(f\"The average cost for obese individuals is ${float(bmi_big_cost_avg)}.\")\n",
    "    print(f\"The average cost for overweight individuals is ${float(bmi_middle_cost_avg)}.\")\n",
    "    print(f\"The average cost for average size individuals is ${float(bmi_small_cost_avg)}.\")\n",
    "\n",
    "bmi_cost_calculation()\n"
   ]
  }
 ],
 "metadata": {
  "kernelspec": {
   "display_name": "Python 3.9.13 ('base')",
   "language": "python",
   "name": "python3"
  },
  "language_info": {
   "codemirror_mode": {
    "name": "ipython",
    "version": 3
   },
   "file_extension": ".py",
   "mimetype": "text/x-python",
   "name": "python",
   "nbconvert_exporter": "python",
   "pygments_lexer": "ipython3",
   "version": "3.9.13"
  },
  "vscode": {
   "interpreter": {
    "hash": "e92a57c806368a2df02b896335c5b09b70b61e15c34814d819b951b9dc7cc385"
   }
  }
 },
 "nbformat": 4,
 "nbformat_minor": 4
}
